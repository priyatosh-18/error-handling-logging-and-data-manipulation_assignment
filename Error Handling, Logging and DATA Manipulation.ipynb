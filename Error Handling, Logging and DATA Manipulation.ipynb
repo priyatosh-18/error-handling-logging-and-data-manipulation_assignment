{
 "cells": [
  {
   "cell_type": "markdown",
   "id": "f5a00311",
   "metadata": {},
   "source": [
    "Question 3. Write a Python program that logs an error message to a log file when a division by zero exception occurs."
   ]
  },
  {
   "cell_type": "code",
   "execution_count": 1,
   "id": "13be1dcc",
   "metadata": {},
   "outputs": [
    {
     "name": "stderr",
     "output_type": "stream",
     "text": [
      "ERROR: Division attempt failed: Tried to divide 42 by zero.\n",
      "Traceback (most recent call last):\n",
      "  File \"C:\\Users\\PRIYATOSH\\AppData\\Local\\Temp\\ipykernel_18524\\3655506572.py\", line 25, in safe_divide\n",
      "    result = numerator / denominator\n",
      "             ~~~~~~~~~~^~~~~~~~~~~~~\n",
      "ZeroDivisionError: division by zero\n",
      "ERROR: Division attempt failed: Tried to divide 99 by zero.\n",
      "Traceback (most recent call last):\n",
      "  File \"C:\\Users\\PRIYATOSH\\AppData\\Local\\Temp\\ipykernel_18524\\3655506572.py\", line 25, in safe_divide\n",
      "    result = numerator / denominator\n",
      "             ~~~~~~~~~~^~~~~~~~~~~~~\n",
      "ZeroDivisionError: division by zero\n"
     ]
    },
    {
     "name": "stdout",
     "output_type": "stream",
     "text": [
      "--- Start Division Program ---\n",
      "\n",
      "Attempting to calculate: 100 / 5\n",
      "Result: 20.0\n",
      "\n",
      "Attempting to calculate: 42 / 0\n",
      "--- ERROR LOGGED TO: error_log.txt ---\n",
      "A division by zero was detected and logged.\n",
      "\n",
      "Attempting to calculate: 50 / 10\n",
      "Result: 5.0\n",
      "\n",
      "Attempting to calculate: 99 / 0\n",
      "--- ERROR LOGGED TO: error_log.txt ---\n",
      "A division by zero was detected and logged.\n",
      "\n",
      "Successfully recorded errors in 'error_log.txt'.\n",
      "--- End Division Program ---\n",
      "\n",
      "--- Contents of error_log.txt (Last 3 entries only) ---\n",
      "result = numerator / denominator\n",
      "~~~~~~~~~~^~~~~~~~~~~~~\n",
      "ZeroDivisionError: division by zero\n"
     ]
    }
   ],
   "source": [
    "import logging\n",
    "import os\n",
    "from datetime import datetime\n",
    "\n",
    "LOG_FILE = 'error_log.txt'\n",
    "\n",
    "logging.basicConfig(\n",
    "    level=logging.ERROR,\n",
    "    format='%(asctime)s - %(levelname)s - %(message)s',\n",
    "    filename=LOG_FILE,\n",
    "    filemode='a'\n",
    ")\n",
    "\n",
    "console = logging.StreamHandler()\n",
    "console.setLevel(logging.ERROR)\n",
    "formatter = logging.Formatter('%(levelname)s: %(message)s')\n",
    "console.setFormatter(formatter)\n",
    "logging.getLogger('').addHandler(console)\n",
    "\n",
    "\n",
    "def safe_divide(numerator, denominator):\n",
    "    print(f\"\\nAttempting to calculate: {numerator} / {denominator}\")\n",
    "    \n",
    "    try:\n",
    "        result = numerator / denominator\n",
    "        print(f\"Result: {result}\")\n",
    "        return result\n",
    "    \n",
    "    except ZeroDivisionError:\n",
    "        error_message = f\"Division attempt failed: Tried to divide {numerator} by zero.\"\n",
    "        \n",
    "        logging.error(error_message, exc_info=True)\n",
    "        \n",
    "        print(f\"--- ERROR LOGGED TO: {LOG_FILE} ---\")\n",
    "        print(\"A division by zero was detected and logged.\")\n",
    "        return None\n",
    "    except TypeError:\n",
    "        logging.error(\"Non-numeric input provided.\", exc_info=True)\n",
    "        print(\"Invalid input detected and logged.\")\n",
    "        return None\n",
    "\n",
    "\n",
    "print(\"--- Start Division Program ---\")\n",
    "\n",
    "safe_divide(100, 5)\n",
    "\n",
    "safe_divide(42, 0)\n",
    "\n",
    "safe_divide(50, 10)\n",
    "\n",
    "safe_divide(99, 0)\n",
    "\n",
    "if os.path.exists(LOG_FILE) and os.path.getsize(LOG_FILE) > 0:\n",
    "    print(f\"\\nSuccessfully recorded errors in '{LOG_FILE}'.\")\n",
    "else:\n",
    "    print(f\"\\n'{LOG_FILE}' was created, but no errors were logged (check the code if you expected errors).\")\n",
    "\n",
    "print(\"--- End Division Program ---\")\n",
    "\n",
    "print(f\"\\n--- Contents of {LOG_FILE} (Last 3 entries only) ---\")\n",
    "try:\n",
    "    with open(LOG_FILE, 'r') as f:\n",
    "        lines = f.readlines()\n",
    "        for line in lines[-3:]:\n",
    "            print(line.strip())\n",
    "except FileNotFoundError:\n",
    "    pass\n"
   ]
  },
  {
   "cell_type": "markdown",
   "id": "02dde806",
   "metadata": {},
   "source": [
    "Question 4. Write a Python program that reads from one file and writes its content to another file. "
   ]
  },
  {
   "cell_type": "code",
   "execution_count": 16,
   "id": "2c3d02cb",
   "metadata": {},
   "outputs": [
    {
     "name": "stdout",
     "output_type": "stream",
     "text": [
      "\n",
      "Setting up source file at 'source.txt'...\n",
      "Source file created successfully.\n",
      "Attempting to copy from 'source.txt' to 'destination.txt'...\n",
      "✅ File copy successful.\n",
      "\n",
      "--- Verifying Content of 'destination.txt' ---\n",
      "Content:\n",
      "--------------------\n",
      "This is the content of the source file.\n",
      "It contains multiple lines.\n",
      "And will be exactly copied to the destination.\n",
      "--------------------\n"
     ]
    }
   ],
   "source": [
    "import os\n",
    "\n",
    "def copy_file_contents(source_path: str, destination_path: str):\n",
    "    print(f\"Attempting to copy from '{source_path}' to '{destination_path}'...\")\n",
    "    \n",
    "    try:\n",
    "        with open(source_path, 'r') as source_file:\n",
    "            content = source_file.read()\n",
    "            \n",
    "        with open(destination_path, 'w') as destination_file:\n",
    "            destination_file.write(content)\n",
    "            \n",
    "        print(\"✅ File copy successful.\")\n",
    "        \n",
    "    except FileNotFoundError:\n",
    "        print(f\"❌ Error: The source file '{source_path}' was not found.\")\n",
    "    except Exception as e:\n",
    "        print(f\"❌ An unexpected error occurred during file copy: {e}\")\n",
    "\n",
    "def create_source_file(path: str, content: str):\n",
    "    print(f\"\\nSetting up source file at '{path}'...\")\n",
    "    try:\n",
    "        with open(path, 'w') as f:\n",
    "            f.write(content)\n",
    "        print(\"Source file created successfully.\")\n",
    "    except Exception as e:\n",
    "        print(f\"Error creating source file: {e}\")\n",
    "\n",
    "def verify_destination_file(path: str):\n",
    "    print(f\"\\n--- Verifying Content of '{path}' ---\")\n",
    "    try:\n",
    "        if not os.path.exists(path):\n",
    "            print(f\"Verification Failed: Destination file '{path}' does not exist.\")\n",
    "            return\n",
    "\n",
    "        with open(path, 'r') as f:\n",
    "            content = f.read()\n",
    "            print(\"Content:\")\n",
    "            print(\"-\" * 20)\n",
    "            print(content)\n",
    "            print(\"-\" * 20)\n",
    "            \n",
    "    except Exception as e:\n",
    "        print(f\"Error reading destination file: {e}\")\n",
    "\n",
    "\n",
    "if __name__ == \"__main__\":\n",
    "    \n",
    "    SOURCE_FILE = \"source.txt\"\n",
    "    DESTINATION_FILE = \"destination.txt\"\n",
    "    \n",
    "    initial_content = (\n",
    "        \"This is the content of the source file.\\n\"\n",
    "        \"It contains multiple lines.\\n\"\n",
    "        \"And will be exactly copied to the destination.\"\n",
    "    )\n",
    "    create_source_file(SOURCE_FILE, initial_content)\n",
    "\n",
    "    copy_file_contents(SOURCE_FILE, DESTINATION_FILE)\n",
    "    \n",
    "    verify_destination_file(DESTINATION_FILE)\n"
   ]
  },
  {
   "cell_type": "markdown",
   "id": "3345de2f",
   "metadata": {},
   "source": [
    "Question 5. Write a program that handles both IndexError and KeyError using a try-except block. "
   ]
  },
  {
   "cell_type": "code",
   "execution_count": 17,
   "id": "bca37c5a",
   "metadata": {},
   "outputs": [
    {
     "name": "stdout",
     "output_type": "stream",
     "text": [
      "--- Case 1: Successful Access ---\n",
      "\n",
      "--- Attempting Access (Index: 1, Key: 'apple') ---\n",
      "List access successful: Index 1 = 20\n",
      "Dictionary access successful: Key 'apple' = 5\n",
      "\n",
      "==================================================\n",
      "--- Case 2: Triggering IndexError ---\n",
      "\n",
      "--- Attempting Access (Index: 5, Key: 'apple') ---\n",
      "!!! Error Caught: IndexError !!!\n",
      "Description: list index out of range\n",
      "This operation failed because we tried to access an out-of-bounds index (IndexError)\n",
      "or a non-existent key (KeyError) in the data structure.\n",
      "\n",
      "==================================================\n",
      "--- Case 3: Triggering KeyError ---\n",
      "\n",
      "--- Attempting Access (Index: 0, Key: 'grape') ---\n",
      "List access successful: Index 0 = 10\n",
      "!!! Error Caught: KeyError !!!\n",
      "Description: 'grape'\n",
      "This operation failed because we tried to access an out-of-bounds index (IndexError)\n",
      "or a non-existent key (KeyError) in the data structure.\n",
      "\n",
      "==================================================\n",
      "--- Script finished ---\n"
     ]
    }
   ],
   "source": [
    "import sys\n",
    "\n",
    "def safe_data_access(data_list, data_dict, index_to_check, key_to_check):\n",
    "    print(f\"\\n--- Attempting Access (Index: {index_to_check}, Key: '{key_to_check}') ---\")\n",
    "\n",
    "    try:\n",
    "        list_value = data_list[index_to_check]\n",
    "        print(f\"List access successful: Index {index_to_check} = {list_value}\")\n",
    "\n",
    "        dict_value = data_dict[key_to_check]\n",
    "        print(f\"Dictionary access successful: Key '{key_to_check}' = {dict_value}\")\n",
    "\n",
    "    except (IndexError, KeyError) as e:\n",
    "        print(f\"!!! Error Caught: {type(e).__name__} !!!\")\n",
    "        print(f\"Description: {e}\")\n",
    "        print(\"This operation failed because we tried to access an out-of-bounds index (IndexError)\")\n",
    "        print(\"or a non-existent key (KeyError) in the data structure.\")\n",
    "\n",
    "    except Exception as e:\n",
    "        print(f\"An unexpected error occurred: {e}\")\n",
    "\n",
    "\n",
    "my_list = [10, 20, 30]\n",
    "my_dict = {\"apple\": 5, \"banana\": 10}\n",
    "\n",
    "print(\"--- Case 1: Successful Access ---\")\n",
    "safe_data_access(my_list, my_dict, 1, \"apple\")\n",
    "\n",
    "print(\"\\n\" + \"=\"*50)\n",
    "print(\"--- Case 2: Triggering IndexError ---\")\n",
    "safe_data_access(my_list, my_dict, 5, \"apple\")\n",
    "\n",
    "print(\"\\n\" + \"=\"*50)\n",
    "print(\"--- Case 3: Triggering KeyError ---\")\n",
    "safe_data_access(my_list, my_dict, 0, \"grape\")\n",
    "\n",
    "print(\"\\n\" + \"=\"*50)\n",
    "print(\"--- Script finished ---\")"
   ]
  },
  {
   "cell_type": "markdown",
   "id": "40a29577",
   "metadata": {},
   "source": [
    "Question 8. Create a histogram using Seaborn to visualize a distribution."
   ]
  },
  {
   "cell_type": "code",
   "execution_count": 7,
   "id": "4e03f185",
   "metadata": {},
   "outputs": [
    {
     "name": "stdout",
     "output_type": "stream",
     "text": [
      "First 5 rows of the tips dataset:\n",
      "   total_bill   tip     sex smoker  day    time  size\n",
      "0       16.99  1.01  Female     No  Sun  Dinner     2\n",
      "1       10.34  1.66    Male     No  Sun  Dinner     3\n",
      "2       21.01  3.50    Male     No  Sun  Dinner     3\n",
      "3       23.68  3.31    Male     No  Sun  Dinner     2\n",
      "4       24.59  3.61  Female     No  Sun  Dinner     4\n",
      "\n",
      "Info about the tips dataset:\n",
      "<class 'pandas.core.frame.DataFrame'>\n",
      "RangeIndex: 244 entries, 0 to 243\n",
      "Data columns (total 7 columns):\n",
      " #   Column      Non-Null Count  Dtype   \n",
      "---  ------      --------------  -----   \n",
      " 0   total_bill  244 non-null    float64 \n",
      " 1   tip         244 non-null    float64 \n",
      " 2   sex         244 non-null    category\n",
      " 3   smoker      244 non-null    category\n",
      " 4   day         244 non-null    category\n",
      " 5   time        244 non-null    category\n",
      " 6   size        244 non-null    int64   \n",
      "dtypes: category(4), float64(2), int64(1)\n",
      "memory usage: 7.4 KB\n"
     ]
    },
    {
     "data": {
      "image/png": "[encoded data removed]",
      "text/plain": [
       "<Figure size 1000x600 with 1 Axes>"
      ]
     },
     "metadata": {},
     "output_type": "display_data"
    }
   ],
   "source": [
    "import seaborn as sns\n",
    "import matplotlib.pyplot as plt\n",
    "\n",
    "df = sns.load_dataset(\"tips\")\n",
    "\n",
    "print(\"First 5 rows of the tips dataset:\")\n",
    "print(df.head())\n",
    "print(\"\\nInfo about the tips dataset:\")\n",
    "df.info()\n",
    "\n",
    "plt.figure(figsize=(10, 6))\n",
    "\n",
    "sns.histplot(data=df, x=\"total_bill\", kde=True, bins=20, color='skyblue')\n",
    "\n",
    "plt.title('Distribution of Total Bill Amounts at a Restaurant', fontsize=16)\n",
    "plt.xlabel('Total Bill ($)', fontsize=12)\n",
    "plt.ylabel('Frequency', fontsize=12)\n",
    "\n",
    "plt.grid(axis='y', alpha=0.75)\n",
    "\n",
    "plt.show()\n"
   ]
  },
  {
   "cell_type": "markdown",
   "id": "1df8b329",
   "metadata": {},
   "source": [
    "Question 9. Use Pandas to load a CSV file and display its first 5 rows."
   ]
  },
  {
   "cell_type": "code",
   "execution_count": null,
   "id": "a6d2cf85",
   "metadata": {},
   "outputs": [
    {
     "name": "stdout",
     "output_type": "stream",
     "text": [
      "   total_bill   tip     sex smoker  day    time  size\n",
      "0       16.99  1.01  Female     No  Sun  Dinner     2\n",
      "1       10.34  1.66    Male     No  Sun  Dinner     3\n",
      "2       21.01  3.50    Male     No  Sun  Dinner     3\n",
      "3       23.68  3.31    Male     No  Sun  Dinner     2\n",
      "4       24.59  3.61  Female     No  Sun  Dinner     4\n"
     ]
    }
   ],
   "source": [
    "import pandas as pd\n",
    "\n",
    "file_path = 'C:\\\\Users\\\\PRIYATOSH\\\\Desktop\\\\data.csv'\n",
    "\n",
    "try:\n",
    "    df = pd.read_csv(file_path)\n",
    "    print(df.head())\n",
    "except FileNotFoundError:\n",
    "    print(f\"Error: The file '{file_path}' was not found. Please check the file path.\")"
   ]
  },
  {
   "cell_type": "markdown",
   "id": "134a59a3",
   "metadata": {},
   "source": [
    "Question 10. Calculate the correlation matrix using Seaborn and visualize it with a heatmap. "
   ]
  },
  {
   "cell_type": "code",
   "execution_count": 15,
   "id": "092f9320",
   "metadata": {},
   "outputs": [
    {
     "name": "stdout",
     "output_type": "stream",
     "text": [
      "Correlation Matrix:\n",
      "             total_bill       tip      size\n",
      "total_bill    1.000000  0.856595  0.213523\n",
      "tip           0.856595  1.000000  0.587150\n",
      "size          0.213523  0.587150  1.000000\n"
     ]
    },
    {
     "data": {
      "image/png": "[encoded data removed]",
      "text/plain": [
       "<Figure size 800x600 with 2 Axes>"
      ]
     },
     "metadata": {},
     "output_type": "display_data"
    }
   ],
   "source": [
    "import pandas as pd\n",
    "import seaborn as sns\n",
    "import matplotlib.pyplot as plt\n",
    "\n",
    "df = pd.read_csv('C:\\\\Users\\\\PRIYATOSH\\\\Desktop\\\\data.csv')\n",
    "\n",
    "numerical_df = df[['total_bill', 'tip', 'size']]\n",
    "\n",
    "correlation_matrix = numerical_df.corr()\n",
    "\n",
    "print(\"Correlation Matrix:\\n\", correlation_matrix)\n",
    "\n",
    "plt.figure(figsize=(8, 6))\n",
    "sns.heatmap(\n",
    "    correlation_matrix,\n",
    "    annot=True,\n",
    "    cmap='coolwarm',\n",
    "    fmt=\".2f\",\n",
    "    linewidths=.5,\n",
    "    cbar_kws={'label': 'Correlation Coefficient'}\n",
    ")\n",
    "plt.title('Correlation Matrix Heatmap of Numerical Features')\n",
    "plt.tight_layout()\n",
    "\n",
    "plt.savefig('correlation_heatmap.png')\n",
    "plt.show()"
   ]
  }
 ],
 "metadata": {
  "kernelspec": {
   "display_name": "Python 3",
   "language": "python",
   "name": "python3"
  },
  "language_info": {
   "codemirror_mode": {
    "name": "ipython",
    "version": 3
   },
   "file_extension": ".py",
   "mimetype": "text/x-python",
   "name": "python",
   "nbconvert_exporter": "python",
   "pygments_lexer": "ipython3",
   "version": "3.13.7"
  }
 },
 "nbformat": 4,
 "nbformat_minor": 5
}
